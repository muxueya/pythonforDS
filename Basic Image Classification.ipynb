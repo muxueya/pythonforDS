{
    "cells": [
        {
            "cell_type": "markdown",
            "metadata": {},
            "source": "![Rhyme](https://rhyme.com/assets/img/logo-dark.png)"
        },
        {
            "cell_type": "markdown",
            "metadata": {},
            "source": "# Task 1: Introduction\n\nWelcome to Basic Image Classification with TensorFlow.\n\nThis graph describes the problem that we are trying to solve visually. We want to create and train a model that takes an image of a hand written digit as input and predicts the class of that digit, that is, it predicts the digit or it predicts the class of the input image.\n\n![Hand Written Digits Classification](images/1_1.png)"
        },
        {
            "cell_type": "markdown",
            "metadata": {},
            "source": "### Import TensorFlow"
        },
        {
            "cell_type": "code",
            "execution_count": 2,
            "metadata": {},
            "outputs": [],
            "source": "import tensorflow as tf\n\n# tf.logging.set_verbosity(tf.logging.ERROR)\n# print('Using TensorFlow version', tf.__version__)"
        },
        {
            "cell_type": "markdown",
            "metadata": {},
            "source": "# Task 2: The Dataset\n### Import MNIST"
        },
        {
            "cell_type": "code",
            "execution_count": 3,
            "metadata": {},
            "outputs": [
                {
                    "name": "stdout",
                    "output_type": "stream",
                    "text": "Downloading data from https://storage.googleapis.com/tensorflow/tf-keras-datasets/mnist.npz\n11493376/11490434 [==============================] - 0s 0us/step\n11501568/11490434 [==============================] - 0s 0us/step\n"
                }
            ],
            "source": "from tensorflow.keras.datasets import mnist\n\n(x_train, y_train), (x_test, y_test) = mnist.load_data()"
        },
        {
            "cell_type": "markdown",
            "metadata": {},
            "source": "### Shapes of Imported Arrays"
        },
        {
            "cell_type": "code",
            "execution_count": 4,
            "metadata": {},
            "outputs": [
                {
                    "name": "stdout",
                    "output_type": "stream",
                    "text": "x_train shape:  (60000, 28, 28)\ny_train shape:  (60000,)\nx_test shape:  (10000, 28, 28)\ny_test shape:  (10000,)\n"
                }
            ],
            "source": "print('x_train shape: ', x_train.shape)\n\nprint('y_train shape: ', y_train.shape)\n\nprint('x_test shape: ', x_test.shape)\n\nprint('y_test shape: ', y_test.shape)"
        },
        {
            "cell_type": "markdown",
            "metadata": {},
            "source": "### Plot an Image Example"
        },
        {
            "cell_type": "code",
            "execution_count": 5,
            "metadata": {},
            "outputs": [
                {
                    "data": {
                        "image/png": "[encoded data removed]",
                        "text/plain": "<Figure size 432x288 with 1 Axes>"
                    },
                    "metadata": {
                        "needs_background": "light"
                    },
                    "output_type": "display_data"
                }
            ],
            "source": "from matplotlib import pyplot as plt\n\n%matplotlib inline\n\nplt.imshow(x_train[0], cmap='binary')\n\nplt.show()"
        },
        {
            "cell_type": "markdown",
            "metadata": {},
            "source": "### Display Labels"
        },
        {
            "cell_type": "code",
            "execution_count": 6,
            "metadata": {},
            "outputs": [
                {
                    "data": {
                        "text/plain": "5"
                    },
                    "execution_count": 6,
                    "metadata": {},
                    "output_type": "execute_result"
                }
            ],
            "source": "y_train[0]"
        },
        {
            "cell_type": "code",
            "execution_count": 7,
            "metadata": {},
            "outputs": [
                {
                    "name": "stdout",
                    "output_type": "stream",
                    "text": "{0, 1, 2, 3, 4, 5, 6, 7, 8, 9}\n"
                }
            ],
            "source": "print(set(y_train))"
        },
        {
            "cell_type": "markdown",
            "metadata": {},
            "source": "# Task 3: One Hot Encoding\nAfter this encoding, every label will be converted to a list with 10 elements and the element at index to the corresponding class will be set to 1, rest will be set to 0:\n\n| original label | one-hot encoded label |\n|------|------|\n| 5 | [0, 0, 0, 0, 0, 1, 0, 0, 0, 0] |\n| 7 | [0, 0, 0, 0, 0, 0, 0, 1, 0, 0] |\n| 1 | [0, 1, 0, 0, 0, 0, 0, 0, 0, 0] |\n\n### Encoding Labels"
        },
        {
            "cell_type": "code",
            "execution_count": 8,
            "metadata": {},
            "outputs": [],
            "source": "from tensorflow.keras.utils import to_categorical\n\ny_train_encoded = to_categorical(y_train)\n\ny_test_encoded = to_categorical(y_test)"
        },
        {
            "cell_type": "markdown",
            "metadata": {},
            "source": "### Validated Shapes"
        },
        {
            "cell_type": "code",
            "execution_count": 9,
            "metadata": {},
            "outputs": [
                {
                    "name": "stdout",
                    "output_type": "stream",
                    "text": "y_train_encoded shape:  (60000, 10)\ny_test_encoded_shape:  (10000, 10)\n"
                }
            ],
            "source": "print('y_train_encoded shape: ', y_train_encoded.shape)\n\nprint('y_test_encoded_shape: ', y_test_encoded.shape)"
        },
        {
            "cell_type": "markdown",
            "metadata": {},
            "source": "### Display Encoded Labels"
        },
        {
            "cell_type": "code",
            "execution_count": 10,
            "metadata": {},
            "outputs": [
                {
                    "data": {
                        "text/plain": "array([0., 0., 0., 0., 0., 1., 0., 0., 0., 0.], dtype=float32)"
                    },
                    "execution_count": 10,
                    "metadata": {},
                    "output_type": "execute_result"
                }
            ],
            "source": "y_train_encoded[0]"
        },
        {
            "cell_type": "markdown",
            "metadata": {},
            "source": "# Task 4: Neural Networks\n\n### Linear Equations\n\n![Single Neuron](images/1_2.png)\n\nThe above graph simply represents the equation:\n\n\\begin{equation}\ny = w1 * x1 + w2 * x2 + w3 * x3 + b\n\\end{equation}\n\nWhere the `w1, w2, w3` are called the weights and `b` is an intercept term called bias. The equation can also be *vectorised* like this:\n\n\\begin{equation}\ny = W . X + b\n\\end{equation}\n\nWhere `X = [x1, x2, x3]` and `W = [w1, w2, w3].T`. The .T means *transpose*. This is because we want the dot product to give us the result we want i.e. `w1 * x1 + w2 * x2 + w3 * x3`. This gives us the vectorised version of our linear equation.\n\nA simple, linear approach to solving hand-written image classification problem - could it work?\n\n![Single Neuron with 784 features](images/1_3.png)\n\n### Neural Networks\n\n![Neural Network with 2 hidden layers](images/1_4.png)\n\nThis model is much more likely to solve the problem as it can learn more complex function mapping for the inputs and outputs in our dataset."
        },
        {
            "cell_type": "markdown",
            "metadata": {},
            "source": "# Task 5: Preprocessing the Examples\n\n### Unrolling N-dimensional Arrays to Vectors"
        },
        {
            "cell_type": "code",
            "execution_count": 11,
            "metadata": {},
            "outputs": [
                {
                    "name": "stdout",
                    "output_type": "stream",
                    "text": "x_train_reshaped:  (60000, 784)\nx_test_reshaped:  (10000, 784)\n"
                }
            ],
            "source": "import numpy as np\n\nx_train_reshaped = np.reshape(x_train, (60000, 784))\n\nx_test_reshaped = np.reshape(x_test, (10000, 784))\n\nprint('x_train_reshaped: ', x_train_reshaped.shape)\n\nprint('x_test_reshaped: ', x_test_reshaped.shape)"
        },
        {
            "cell_type": "markdown",
            "metadata": {},
            "source": "### Display Pixel Values"
        },
        {
            "cell_type": "code",
            "execution_count": 13,
            "metadata": {},
            "outputs": [
                {
                    "name": "stdout",
                    "output_type": "stream",
                    "text": "{0, 1, 2, 3, 9, 11, 14, 16, 18, 23, 24, 25, 26, 27, 30, 35, 36, 39, 43, 45, 46, 49, 55, 56, 64, 66, 70, 78, 80, 81, 82, 90, 93, 94, 107, 108, 114, 119, 126, 127, 130, 132, 133, 135, 136, 139, 148, 150, 154, 156, 160, 166, 170, 171, 172, 175, 182, 183, 186, 187, 190, 195, 198, 201, 205, 207, 212, 213, 219, 221, 225, 226, 229, 238, 240, 241, 242, 244, 247, 249, 250, 251, 252, 253, 255}\n"
                }
            ],
            "source": "print(set(x_train_reshaped[0]))"
        },
        {
            "cell_type": "markdown",
            "metadata": {},
            "source": "### Data Normalization"
        },
        {
            "cell_type": "code",
            "execution_count": 15,
            "metadata": {},
            "outputs": [],
            "source": "x_mean = np.mean(x_train_reshaped)\n\nx_std = np.std(x_train_reshaped)\n\nepsilon = 1e-10\n\nx_train_norm = (x_train_reshaped - x_mean) / (x_std + epsilon)\n\nx_test_norm = (x_test_reshaped - x_mean) /(x_std + epsilon)"
        },
        {
            "cell_type": "markdown",
            "metadata": {},
            "source": "### Display Normalized Pixel Values"
        },
        {
            "cell_type": "code",
            "execution_count": 16,
            "metadata": {},
            "outputs": [
                {
                    "name": "stdout",
                    "output_type": "stream",
                    "text": "{-0.38589016215482896, 1.306921966983251, 1.17964285952926, 1.803310486053816, 1.6887592893452241, 2.8215433456857437, 2.719720059722551, 1.1923707702746593, 1.7396709323268205, 2.057868700961798, 2.3633385588513764, 2.096052433197995, 1.7651267538176187, 2.7960875241949457, 2.7451758812133495, 2.45243393406917, 0.02140298169794222, -0.22042732246464067, 1.2305545025108566, 0.2759611966059242, 2.210603629906587, 2.6560805059955555, 2.6051688630139593, -0.4240738943910262, 0.4668798577869107, 0.1486820891519332, 0.3905123933145161, 1.0905474843114664, -0.09314821501064967, 1.4851127174188385, 2.7579037919587486, 1.5360243604004349, 0.07231462467953861, -0.13133194724684696, 1.294194056237852, 0.03413089244334132, 1.3451056992194483, 2.274243183633583, -0.24588314395543887, 0.772349715676489, 0.75962180493109, 0.7214380726948927, 0.1995937321335296, -0.41134598364562713, 0.5687031437501034, 0.5941589652409017, 0.9378125553666773, 0.9505404661120763, 0.6068868759863008, 0.4159682148053143, -0.042236572029053274, 2.7706317027041476, 2.1342361654341926, 0.12322626766113501, -0.08042030426525057, 0.16140999989733232, 1.8924058612716097, 1.2560103240016547, 2.185147808415789, 0.6196147867316999, 1.943317504253206, -0.11860403650144787, -0.30952269768243434, 1.9942291472348024, -0.2840668761916362, 2.6306246845047574, 2.286971094378982, -0.19497150097384247, -0.39861807290022805, 0.2886891073513233, 1.7523988430722195, 2.3887943803421745, 2.681536327486354, 1.4596568959280403, 2.439706023323771, 2.7833596134495466, 2.490617666305367, -0.10587612575604877, 1.5614801818912332, 1.9051337720170087, 1.6123918248728295, 1.268738234747054, 1.9560454149986053, 2.6433525952501564, 1.026907930584471}\n"
                }
            ],
            "source": "print(set(x_train_norm[0]))"
        },
        {
            "cell_type": "markdown",
            "metadata": {},
            "source": "# Task 6: Creating a Model\n### Creating the Model"
        },
        {
            "cell_type": "code",
            "execution_count": 26,
            "metadata": {},
            "outputs": [],
            "source": "from tensorflow.keras.models import Sequential\n\nfrom tensorflow.keras.layers import Dense\n\nmodel = Sequential([\n    Dense(128, activation='relu', input_shape=(784,)),\n    Dense(128, activation='relu'),\n    Dense(10, activation='softmax')\n])"
        },
        {
            "cell_type": "markdown",
            "metadata": {},
            "source": "### Activation Functions\n\nThe first step in the node is the linear sum of the inputs:\n\\begin{equation}\nZ = W . X + b\n\\end{equation}\n\nThe second step in the node is the activation function output:\n\n\\begin{equation}\nA = f(Z)\n\\end{equation}\n\nGraphical representation of a node where the two operations are performed:\n\n![ReLU](images/1_5.png)\n\n### Compiling the Model"
        },
        {
            "cell_type": "code",
            "execution_count": 27,
            "metadata": {},
            "outputs": [
                {
                    "name": "stdout",
                    "output_type": "stream",
                    "text": "Model: \"sequential_1\"\n_________________________________________________________________\n Layer (type)                Output Shape              Param #   \n=================================================================\n dense_3 (Dense)             (None, 128)               100480    \n                                                                 \n dense_4 (Dense)             (None, 128)               16512     \n                                                                 \n dense_5 (Dense)             (None, 10)                1290      \n                                                                 \n=================================================================\nTotal params: 118,282\nTrainable params: 118,282\nNon-trainable params: 0\n_________________________________________________________________\n"
                }
            ],
            "source": "model.compile(\n    optimizer='sgd',\n    \n    loss='categorical_crossentropy',\n    \n    metrics=['accuracy']\n)\n\n\n\nmodel.summary()"
        },
        {
            "cell_type": "markdown",
            "metadata": {},
            "source": "# Task 7: Training the Model\n\n### Training the Model"
        },
        {
            "cell_type": "code",
            "execution_count": 28,
            "metadata": {},
            "outputs": [
                {
                    "name": "stdout",
                    "output_type": "stream",
                    "text": "Epoch 1/3\n1875/1875 [==============================] - 7s 4ms/step - loss: 0.3784 - accuracy: 0.8888\nEpoch 2/3\n1875/1875 [==============================] - 7s 4ms/step - loss: 0.1904 - accuracy: 0.9442\nEpoch 3/3\n1875/1875 [==============================] - 7s 4ms/step - loss: 0.1435 - accuracy: 0.9584\n"
                },
                {
                    "data": {
                        "text/plain": "<keras.callbacks.History at 0x7f29145bfd90>"
                    },
                    "execution_count": 28,
                    "metadata": {},
                    "output_type": "execute_result"
                }
            ],
            "source": "model.fit(x_train_norm, y_train_encoded, epochs=3)"
        },
        {
            "cell_type": "markdown",
            "metadata": {},
            "source": "### Evaluating the Model"
        },
        {
            "cell_type": "code",
            "execution_count": 29,
            "metadata": {},
            "outputs": [
                {
                    "name": "stdout",
                    "output_type": "stream",
                    "text": "313/313 [==============================] - 1s 3ms/step - loss: 0.1329 - accuracy: 0.9597\nTest set accuracy:  95.96999883651733\n"
                }
            ],
            "source": "loss, accuracy = model.evaluate(x_test_norm, y_test_encoded)\n\nprint('Test set accuracy: ', accuracy*100)"
        },
        {
            "cell_type": "markdown",
            "metadata": {},
            "source": "# Task 8: Predictions\n\n### Predictions on Test Set"
        },
        {
            "cell_type": "code",
            "execution_count": 30,
            "metadata": {},
            "outputs": [
                {
                    "name": "stdout",
                    "output_type": "stream",
                    "text": "Shape of preds:  (10000, 10)\n"
                }
            ],
            "source": "preds = model.predict(x_test_norm)\n\nprint('Shape of preds: ', preds.shape)"
        },
        {
            "cell_type": "markdown",
            "metadata": {},
            "source": "### Plotting the Results"
        },
        {
            "cell_type": "code",
            "execution_count": 34,
            "metadata": {},
            "outputs": [
                {
                    "data": {
                        "image/png": "[encoded data removed]",
                        "text/plain": "<Figure size 864x864 with 25 Axes>"
                    },
                    "metadata": {},
                    "output_type": "display_data"
                }
            ],
            "source": "plt.figure(figsize=(12,12))\n\nstart_index = 0\n\nfor i in range(25):\n    \n    plt.subplot(5, 5, i+1)\n    \n    plt.grid(False)\n    \n    plt.xticks([])\n    \n    plt.yticks([])\n    \n    pred = np.argmax(preds[start_index+i])\n    \n    gt=y_test[start_index+i]\n    \n    col = 'g'\n    \n    if pred != gt:\n        \n        col = 'r'\n        \n\n    plt.xlabel('i=[], pred={}, gt={}'.format(start_index+i, pred, gt), color=col)\n    \n\n    plt.imshow(x_test[start_index+i], cmap='binary')\n    \n    \nplt.show()"
        },
        {
            "cell_type": "code",
            "execution_count": 36,
            "metadata": {},
            "outputs": [
                {
                    "data": {
                        "image/png": "[encoded data removed]",
                        "text/plain": "<Figure size 432x288 with 1 Axes>"
                    },
                    "metadata": {
                        "needs_background": "light"
                    },
                    "output_type": "display_data"
                }
            ],
            "source": "plt.plot(preds[8])\n\nplt.show()"
        },
        {
            "cell_type": "code",
            "execution_count": null,
            "metadata": {},
            "outputs": [],
            "source": "\n"
        }
    ],
    "metadata": {
        "kernelspec": {
            "display_name": "Python 3.9",
            "language": "python",
            "name": "python3"
        },
        "language_info": {
            "codemirror_mode": {
                "name": "ipython",
                "version": 3
            },
            "file_extension": ".py",
            "mimetype": "text/x-python",
            "name": "python",
            "nbconvert_exporter": "python",
            "pygments_lexer": "ipython3",
            "version": "3.9.12"
        }
    },
    "nbformat": 4,
    "nbformat_minor": 2
}